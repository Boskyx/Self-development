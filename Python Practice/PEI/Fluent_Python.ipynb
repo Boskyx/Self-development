{
 "cells": [
  {
   "cell_type": "markdown",
   "metadata": {},
   "source": [
    "# ARRAY\n",
    "If a list containes only numbers, array.array is a more efficient replacement.\n",
    "Arrays support all mutable sequence."
   ]
  },
  {
   "cell_type": "code",
   "execution_count": null,
   "metadata": {},
   "outputs": [],
   "source": [
    "from array import array\n",
    "a=array(‘d’, (random() for I in range(10**7)))\n",
    "#Array a contains 10 million double float values (are double float because we give the parameter ‘d’)."
   ]
  },
  {
   "cell_type": "markdown",
   "metadata": {},
   "source": [
    "# NUMPY\n",
    "\n",
    "NumPy implements multi-dimensional, homogeneous arrays and matrix types that hold not only numbers but also user-defined records, and provides efficient element-wise operations."
   ]
  },
  {
   "cell_type": "code",
   "execution_count": 1,
   "metadata": {},
   "outputs": [
    {
     "name": "stdout",
     "output_type": "stream",
     "text": [
      "[ 0  1  2  3  4  5  6  7  8  9 10 11]\n",
      "(12,)\n",
      "[[ 0  1  2  3]\n",
      " [ 4  5  6  7]\n",
      " [ 8  9 10 11]]\n",
      "[[1508181.34597761]\n",
      " [ 267640.55257131]\n",
      " [2283280.22186973]]\n",
      "0.0010245809971820563\n"
     ]
    }
   ],
   "source": [
    "import numpy as np\n",
    "from time import perf_counter as pc # timer to know the elapsed for 3 divisions\n",
    "a=np.arange(12)\n",
    "print(a)\n",
    "print(a.shape) #inspect the array, (12, ) this is one dimensional array with 12 elements\n",
    "a.shape=3, 4 #change the shape of the matrix in 3 lines with 4 columsn, 3 dimensions with 4 elements for each\n",
    "print(a)\n",
    "a.transpose() #Create a new array by transposing (swapping columns with rows).\n",
    "# print(a)\n",
    "# print(a[0])\n",
    "# print(a[:, 1])\n",
    "b=np.array([1508181.34597761, 267640.55257131, 2283280.22186973])\n",
    "b.shape=3, 1\n",
    "print(b)\n",
    "t0=pc()\n",
    "b/=3\n",
    "print(pc()-t0)"
   ]
  },
  {
   "cell_type": "markdown",
   "metadata": {},
   "source": [
    "# DEQUES AND QUEUES\n",
    "The .append and .pop methods make a list usable as a stack or a queue (if you\n",
    "use .append and .pop(0), you get FIFO behavior). But inserting and removing from\n",
    "the head of a list (the 0-index end) is costly because the entire list must be shifted in\n",
    "memory.\n",
    "The class collections.deque is a thread-safe double-ended queue designed for fast\n",
    "inserting and removing from both ends.\n",
    "If you have to remove the value in the middle the operation could be long and not so efficient.\n",
    "It’s efficient for FIFO applications (First In First Out)."
   ]
  },
  {
   "cell_type": "markdown",
   "metadata": {},
   "source": [
    "# DICTIONARIES\n",
    "Example of using dictionaries from a list of tuples"
   ]
  },
  {
   "cell_type": "code",
   "execution_count": null,
   "metadata": {},
   "outputs": [],
   "source": [
    "dial_codes = [\n",
    "(880, 'Bangladesh'),\n",
    "(55, 'Brazil'),\n",
    "(86, 'China'),\n",
    "(91, 'India'),\n",
    "(62, 'Indonesia'),\n",
    "(81, 'Japan'),\n",
    "(234, 'Nigeria'),\n",
    "(92, 'Pakistan'),\n",
    "(7,'Russia'),\n",
    "(1,'United States'),\n",
    "]\n",
    "country_dial={country: code for code, country in dial_codes}\n",
    "print(country_dial)\n",
    "print({code:country.upper() for country, code in sorted(country_dial.items()) if code<50})\n",
    "#country_dial.items() restituisce la prima coppia country, code del dizionario, altrimenti da errore\n",
    "#perche rileva troppi items e lui invece se ne aspetta due country e code"
   ]
  },
  {
   "cell_type": "markdown",
   "metadata": {},
   "source": [
    "## UNPACKING MAPPINGS with **kwargs\n",
    "\n",
    "First, we can apply ** to more than one argument in a function call. This works when\n",
    "keys are all strings and unique across all arguments (because duplicate keyword argu‐\n",
    "ments are forbidden):\n"
   ]
  },
  {
   "cell_type": "code",
   "execution_count": 2,
   "metadata": {},
   "outputs": [
    {
     "name": "stdout",
     "output_type": "stream",
     "text": [
      "{'x': 1, 'y': 2, 'z': 3}\n"
     ]
    }
   ],
   "source": [
    "def dump(**kwargs):\n",
    "    return kwargs\n",
    "def main():\n",
    "    b=dump(**{'x':1}, y=2, **{'z': 3})\n",
    "    print(b)\n",
    "    # a={'a':0, **{'x':1}, 'y':2, **{'z':2, 'x':4}}\n",
    "    # print(a)\n",
    "\n",
    "main()"
   ]
  },
  {
   "cell_type": "markdown",
   "metadata": {},
   "source": [
    "MERGING MAPPINGS WITH |\n"
   ]
  },
  {
   "cell_type": "code",
   "execution_count": 7,
   "metadata": {},
   "outputs": [
    {
     "name": "stdout",
     "output_type": "stream",
     "text": [
      "{'a': 2, 'b': 4, 'c': 6}\n"
     ]
    }
   ],
   "source": [
    "d1 = {'a': 1, 'b': 3}\n",
    "d2 = {'a': 2, 'b': 4, 'c': 6}\n",
    "print(d1 | d2)"
   ]
  },
  {
   "cell_type": "markdown",
   "metadata": {},
   "source": [
    "## Pattern matching with Mapping\n",
    "\n",
    "The match/case statement supports subjects that are mapping objects. Patterns for\n",
    "mappings look like dict literals, but they can match instances of any actual or virtual\n",
    "subclass of collections.abc.Mapping\n"
   ]
  },
  {
   "cell_type": "code",
   "execution_count": 8,
   "metadata": {},
   "outputs": [
    {
     "name": "stdout",
     "output_type": "stream",
     "text": [
      "['Douglas Hofstadter']\n"
     ]
    }
   ],
   "source": [
    "def get_creators(record: dict) -> list: #this function wait a record of dict type and return a list\n",
    "    match record:\n",
    "        case {'type': 'book', 'api': 2, 'authors': [*names]}:\n",
    "         return names\n",
    "        case {'type': 'book', 'api': 1, 'author': name}:\n",
    "          return [name]\n",
    "        case {'type': 'book'}:\n",
    "         raise ValueError(f\"Invalid 'book' record: {record!r}\")\n",
    "        case {'type': 'movie', 'director': name}:\n",
    "         return [name]\n",
    "        case _:\n",
    "          raise ValueError(f'Invalid record: {record!r}')\n",
    "def main():\n",
    "    b1={'api':1, 'author':'Douglas Hofstadter', 'type':'book', 'title':'Gödel, Escher, Bach'}\n",
    "    print(get_creators(b1))\n",
    "main()"
   ]
  },
  {
   "cell_type": "markdown",
   "metadata": {},
   "source": [
    "## collections.Counter\n",
    "A mapping that holds an integer count for each key. Updating an existing key adds to\n",
    "its count. This can be used to count instances of hashable objects or as a multiset (dis‐\n",
    "cussed later in this section). Counter implements the + and - operators to combine\n",
    "tallies, and other useful methods such as most_common([n]), which returns an\n",
    "ordered list of tuples with the n most common items and their counts"
   ]
  },
  {
   "cell_type": "code",
   "execution_count": 10,
   "metadata": {},
   "outputs": [
    {
     "name": "stdout",
     "output_type": "stream",
     "text": [
      "Counter({'c': 1, 'i': 1, 'a': 1, 'o': 1})\n"
     ]
    }
   ],
   "source": [
    "import collections\n",
    "ct=collections.Counter('ciao')\n",
    "print(ct)"
   ]
  }
 ],
 "metadata": {
  "kernelspec": {
   "display_name": "Python 3",
   "language": "python",
   "name": "python3"
  },
  "language_info": {
   "codemirror_mode": {
    "name": "ipython",
    "version": 3
   },
   "file_extension": ".py",
   "mimetype": "text/x-python",
   "name": "python",
   "nbconvert_exporter": "python",
   "pygments_lexer": "ipython3",
   "version": "3.10.12"
  }
 },
 "nbformat": 4,
 "nbformat_minor": 2
}
