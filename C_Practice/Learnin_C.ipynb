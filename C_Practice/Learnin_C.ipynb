{
 "cells": [
  {
   "cell_type": "markdown",
   "metadata": {},
   "source": [
    "## Introduction\n",
    "\n"
   ]
  },
  {
   "cell_type": "markdown",
   "metadata": {},
   "source": [
    "C is a by-product of Unix oeprating system.\n",
    "First program is to write 'Hello world'"
   ]
  },
  {
   "cell_type": "markdown",
   "metadata": {},
   "source": [
    "1) save the file as prova.c\n",
    "2) open the terminal and in the folder run gcc prova.c -o file (it gives the name file at the executable)\n",
    "3) run the c file by digiting ./file in the terminal "
   ]
  },
  {
   "cell_type": "code",
   "execution_count": 1,
   "metadata": {},
   "outputs": [
    {
     "name": "stdout",
     "output_type": "stream",
     "text": [
      "hello world\n"
     ]
    }
   ],
   "source": [
    "#include <stdio.h> //#include ... is a directive for the machine\n",
    "int main(void)\n",
    "{\n",
    "    printf(\"hello world\\n\");\n",
    "    return 0; //return the value 0 to the operating system when it terminates\n",
    "}"
   ]
  },
  {
   "cell_type": "markdown",
   "metadata": {},
   "source": [
    "Before a C program is compiled, it is first edited by a preprocessor. Comn1ands\n",
    "intended for the preprocessor are called directives.\n"
   ]
  },
  {
   "cell_type": "markdown",
   "metadata": {},
   "source": [
    "## FUNCTIONS"
   ]
  },
  {
   "cell_type": "markdown",
   "metadata": {},
   "source": [
    "In C functions is simply a series of statements that have benn grouped together.\n",
    "Example a func that adds 1 is\n",
    "return x+1"
   ]
  },
  {
   "cell_type": "code",
   "execution_count": 3,
   "metadata": {},
   "outputs": [
    {
     "name": "stdout",
     "output_type": "stream",
     "text": [
      "hello world\n"
     ]
    }
   ],
   "source": [
    "/* Name:Andrea\n",
    "   Purpose:test comments in C\n",
    "   Author:Andrea */\n",
    "#include <stdio.h> \n",
    "int main(void) \n",
    "{\n",
    "    printf(\"hello world\\n\");\n",
    "    return 0; //return the value 0 to the operating system when it terminates\n",
    "}"
   ]
  },
  {
   "cell_type": "markdown",
   "metadata": {},
   "source": [
    "`int main(void)`\\\n",
    "**int** before main indicates that the main funcs return an integer value\\\n",
    "**void** in parentheses idicates that main has no arguments\\\n",
    "**return 0** has 2 effects:\n",
    "- cause the main functions to terminate \n",
    "- main function returns a value 0"
   ]
  },
  {
   "cell_type": "markdown",
   "metadata": {},
   "source": [
    "## Variables"
   ]
  },
  {
   "cell_type": "markdown",
   "metadata": {},
   "source": [
    "The type of a variable determines the largets and smallest numbers that can store, it also determines whether or not digits are allowed after the decimal point.\\\n",
    "**int**\\\n",
    "store a whole number such as 0, 1, 392, 2553. The range is limited, the largest is typically 2,147,483,647/\n",
    "**float**\\\n",
    "can store much larger numbers than int.\\\n",
    "Floats have a drawback, arithmetic on float may be slower than arithmetic on int.\\\n",
    "If we store 1 in a float variable, we may later find that the variables has a value such 0.099999999999987, thanks to rounding error\\\n",
    "**DECLARIATION**\\\n",
    "Variables must be declared, for the benefit of the compiler, before they can be used.\\\n",
    "Example:\\\n",
    "`int height;`\\\n",
    "`flaot profit;`\\\n",
    "So before to use a variable we have to declare it\\\n",
    "Example\\\n",
    "`int height;`\\\n",
    "`height=8;`\\\n",
    "A constant assigned to a float is better if is followed by f\\\n",
    "`profit:2150.25f`\\\n",
    "**PRINTING THE VALUE**\\\n",
    "`printf(\"Height: %d\\n\", height)`\\\n",
    "**%d** is a placeholder indicating where the value height is to be filled in. It functions ONLY for int\\\n",
    "**%f** by default display a number with 6 digits after the decimal point. To force in display n digits:\\\n",
    "`printf(\"Heights: $%f.2\\n\", height)` $ is the currency\\\n"
   ]
  },
  {
   "cell_type": "markdown",
   "metadata": {},
   "source": [
    "## Reading Input"
   ]
  },
  {
   "cell_type": "markdown",
   "metadata": {},
   "source": [
    "To obtain input we'll use **scanf**, f stands for formatted.\\\n",
    "`scanf(\"%d\", &i)` read an integer and stores in i\\\n",
    "\"%d\" string tells scanf to read input that represent an integer"
   ]
  },
  {
   "cell_type": "code",
   "execution_count": 5,
   "metadata": {},
   "outputs": [
    {
     "name": "stdout",
     "output_type": "stream",
     "text": [
      "Enter height of box: "
     ]
    }
   ],
   "source": [
    "#include <stdio.h>\n",
    "int main(void)\n",
    "{\n",
    "    int age;\n",
    "    printf(\"Insert your age: \");\n",
    "    scanf(\"%d\", &age); \n",
    "    printf(\"Your age is %d\\n\", age);\n",
    "    return 0;\n",
    "}"
   ]
  },
  {
   "cell_type": "code",
   "execution_count": 1,
   "metadata": {},
   "outputs": [
    {
     "name": "stdout",
     "output_type": "stream",
     "text": [
      "         *\n",
      "        *\n",
      "       *\n",
      "      *\n",
      " *   *\n",
      "  * *\n",
      "   *\n"
     ]
    }
   ],
   "source": [
    "#include <stdio.h> //Tick programm\n",
    "int main(void)\n",
    "{\n",
    "    printf(\"         *\\n\");\n",
    "    printf(\"        *\\n\");\n",
    "    printf(\"       *\\n\");\n",
    "    printf(\"      *\\n\");\n",
    "    printf(\" *   *\\n\");\n",
    "    printf(\"  * *\\n\");\n",
    "    printf(\"   *\\n\");\n",
    "}"
   ]
  },
  {
   "cell_type": "markdown",
   "metadata": {},
   "source": [
    "## Formatted Input/Output"
   ]
  },
  {
   "cell_type": "markdown",
   "metadata": {},
   "source": [
    "### Printf"
   ]
  },
  {
   "cell_type": "markdown",
   "metadata": {},
   "source": [
    "`printf(string, expr1, expr2, ...)`\\\n",
    "The format string may contain both ordinary characters and conversion specifications (as %d or others).\\\n",
    "**d** displays an integer in decimal form\\\n",
    "**e** displays a floating point number in exponential format\\\n",
    "**f** displays a floating point number in fixed decimal format\\\n",
    "**g** displays a floating point number in either expo or fixed format. It's usefull for displaying numers whose size can't predicted when the program is written."
   ]
  },
  {
   "cell_type": "code",
   "execution_count": 14,
   "metadata": {},
   "outputs": [
    {
     "name": "stdout",
     "output_type": "stream",
     "text": [
      "|10|   10|10   |  010|\n",
      "|   825.600|| 8.256e+02||825.6     |\n"
     ]
    }
   ],
   "source": [
    "#include<stdio.h>\n",
    "int main(void)\n",
    "{\n",
    "    int i;\n",
    "    float j;\n",
    "    i=10;\n",
    "    j=825.6f;\n",
    "    printf(\"|%d|%5d|%-5d|%5.3d|\\n\", i, i, i, i);\n",
    "    printf(\"|%10.3f||%10.3e||%-10g|\\n\", j, j, j);\n",
    "    //%5d occupies a total of 5 spaces, 2 for 10 and 3 on the left\n",
    "    //%-5d is the opposit, so the 3 spaces not occupies by the variable are on the right\n",
    "}"
   ]
  },
  {
   "cell_type": "markdown",
   "metadata": {},
   "source": [
    "### Escape sequence"
   ]
  },
  {
   "cell_type": "markdown",
   "metadata": {},
   "source": [
    "**Alert** \\a\\\n",
    "**Backspace** \\b\\\n",
    "**New Line** \\n\\\n",
    "**Horizontal Tab**\\t"
   ]
  },
  {
   "cell_type": "code",
   "execution_count": 16,
   "metadata": {},
   "outputs": [
    {
     "name": "stdout",
     "output_type": "stream",
     "text": [
      "Item\tUnit\tPurchase\n",
      "\tPrice\tDate"
     ]
    }
   ],
   "source": [
    "#include<stdio.h>\n",
    "int main(void)\n",
    "{\n",
    "    printf(\"Item\\tUnit\\tPurchase\\n\");\n",
    "    printf(\"\\tPrice\\tDate\");\n",
    "\n",
    "}"
   ]
  },
  {
   "cell_type": "markdown",
   "metadata": {},
   "source": [
    "### Scanf"
   ]
  },
  {
   "cell_type": "code",
   "execution_count": 18,
   "metadata": {},
   "outputs": [],
   "source": [
    "#include<stdio.h>\n",
    "int main(void)\n",
    "{\n",
    "    int x,y;\n",
    "    float j,k;\n",
    "    scanf(\"%d%d%f%f\", &x,&y,&j,&k); //VERY IMPORTANT to remember to put the & symbol\n",
    "}"
   ]
  },
  {
   "cell_type": "code",
   "execution_count": null,
   "metadata": {},
   "outputs": [],
   "source": [
    "#include<stdio.h>\n",
    "int main(void)\n",
    "{\n",
    "    int num1, den1, num2, den2, result_num, result_den;\n",
    "    printf(\"Insert first fraction (as num/den): \");\n",
    "    scanf(\"%d/%d\", &num1, &den1);\n",
    "    printf(\"Insert second fraction (as num/den): \");\n",
    "    scanf(\"%d/%d\", &num2, &den2);\n",
    "    result_num= num1*den2+num2*den1;\n",
    "    result_den= den1*den2;\n",
    "    printf(\"the result of the fraction is; %d/%d\\n\", result_num, result_den);\n",
    "}"
   ]
  },
  {
   "cell_type": "code",
   "execution_count": null,
   "metadata": {},
   "outputs": [],
   "source": [
    "#include<stdio.h>\n",
    "int main(void)\n",
    "{\n",
    "    int gsi, group_id, publ_code, item_number, check_digit;\n",
    "    printf(\"Insert the ISBN: \");\n",
    "    scanf(\"%d-%d-%d-%d-%d\", &gsi, &group_id, &publ_code, &item_number, &check_digit);\n",
    "    printf(\"GSI:%d\\nGroup Id:%d\\nPub:%d\\nItem Id:%d\\nCheck digits:%d\\n\", gsi, group_id, publ_code, item_number, check_digit);\n",
    "}"
   ]
  },
  {
   "cell_type": "markdown",
   "metadata": {},
   "source": [
    "## Expressions"
   ]
  },
  {
   "cell_type": "markdown",
   "metadata": {},
   "source": [
    "% is the remainder, 10%3 is 1, 12%4 is 3\\\n",
    "The operator = is right associative so i=j=k=0 is i=(j=(k=0)) the first association is with k.\\\n",
    "int i float f, f=i=33.3f in that case i=33 and f=33.0 we lost the .3 after the first step because i is integer\\\n",
    "i=i+2 == i+=2"
   ]
  },
  {
   "cell_type": "code",
   "execution_count": null,
   "metadata": {},
   "outputs": [],
   "source": [
    "#include<stdio.h>\n",
    "int main(void)\n",
    "{\n",
    "    int first, second, number;\n",
    "    printf(\"Insert 2 digits: \");\n",
    "    scanf(\"%d\", &number);\n",
    "    first=number/10;\n",
    "    second=number%10;\n",
    "    printf(\"%d%d\\n\", second, first);\n",
    "}"
   ]
  },
  {
   "cell_type": "markdown",
   "metadata": {},
   "source": [
    "## Selection Statements"
   ]
  },
  {
   "cell_type": "markdown",
   "metadata": {},
   "source": [
    "**Selection statements** --> if and switch\\\n",
    "**Iteration statements** --> while, do and for\\\n",
    "**Jump statements** --> break, continue, goto (they cause and unconditional jump to some other place in the program)\\\n",
    "! Logical negatio, && logical and, || logical or\\\n"
   ]
  },
  {
   "cell_type": "markdown",
   "metadata": {},
   "source": [
    "### if statements "
   ]
  },
  {
   "cell_type": "markdown",
   "metadata": {},
   "source": [
    "`if (expression) statements`\\\n",
    "if (line_nume == MAX_LINES)\\\n",
    "    line_num = 0\n",
    "\n",
    "In the case we have more than one statements we use a compound statements\\\n",
    "{line+num = 0; page_num++;}\\\n",
    "`if (line_num == MAX_LINES) {`\\\n",
    "`line_num = 0;`\\\n",
    "`page_num++;`\\\n",
    "`}`"
   ]
  },
  {
   "cell_type": "markdown",
   "metadata": {},
   "source": [
    "### Switch statements"
   ]
  },
  {
   "cell_type": "markdown",
   "metadata": {},
   "source": [
    "Instead of have a cascade if we can use a switch\\\n",
    "`switch (grade) {`\\\n",
    "`case 4 : printf (\"Excellent '') ;`\\\n",
    "`break;`\\\n",
    "`case 3 : printf (\"Good\") ;`\\\n",
    "`break;`\\\n",
    "`case 2 : printf ( 11 Average\") ;`\\\n",
    "`break;`\\\n",
    "`case 1: printf( 11 Poor 11 );`\\\n",
    "`break;`\\\n",
    "`case O: print£ ('Failing\") ;`\\\n",
    "`break;`\\\n",
    "`default: printf (' Illegal grade\") ;`\\\n",
    "`break;`\\\n",
    "`}`\\\n",
    "The breake causes the \"break\" out of the switch; excution continues at the next statement after the switch\\\n",
    "Switch is a compute jump litteraly.\\"
   ]
  },
  {
   "cell_type": "code",
   "execution_count": null,
   "metadata": {},
   "outputs": [],
   "source": [
    "switch (grade) {\n",
    "case 4: case 3 : case 2: case 1:\n",
    "    num_passing++;\n",
    "    /* FALL THROUGH*/ //In this way we want that the code read all the case without a break\n",
    "case 0: \n",
    "    total_grades++;\n",
    "    break; \n",
    "}"
   ]
  },
  {
   "cell_type": "markdown",
   "metadata": {},
   "source": [
    "### While"
   ]
  },
  {
   "cell_type": "code",
   "execution_count": 12,
   "metadata": {},
   "outputs": [
    {
     "name": "stdout",
     "output_type": "stream",
     "text": [
      "T minus 2\n",
      "T minus 1\n"
     ]
    }
   ],
   "source": [
    "#include<stdio.h>\n",
    "int main(void)\n",
    "{\n",
    "    int i;\n",
    "    i=2;\n",
    "    while (i>0)\n",
    "    {\n",
    "        printf(\"T minus %d\\n\", i);\n",
    "        i--;\n",
    "    }\n",
    "}"
   ]
  },
  {
   "cell_type": "code",
   "execution_count": 13,
   "metadata": {},
   "outputs": [
    {
     "name": "stdout",
     "output_type": "stream",
     "text": [
      "T minus 0\n"
     ]
    }
   ],
   "source": [
    "/*When a do stat is executed, the loop body is executed first, then the controlling expression is \n",
    "evaluated. If you put 0 the program print T minus 0 because the check i>0 is after*/\n",
    "#include<stdio.h>\n",
    "int main(void)\n",
    "{\n",
    "    int i;\n",
    "    i=0;\n",
    "    do\n",
    "    {\n",
    "        printf(\"T minus %d\\n\", i);\n",
    "        i--;\n",
    "    } while (i>0);\n",
    "}"
   ]
  },
  {
   "cell_type": "markdown",
   "metadata": {},
   "source": [
    "### For"
   ]
  },
  {
   "cell_type": "code",
   "execution_count": 17,
   "metadata": {},
   "outputs": [
    {
     "name": "stdout",
     "output_type": "stream",
     "text": [
      "T is 10T is 9T is 8T is 7T is 6T is 5T is 4T is 3T is 2T is 1"
     ]
    }
   ],
   "source": [
    "#include<stdio.h>\n",
    "int main(void)\n",
    "{\n",
    "    int i;\n",
    "    for (i=10; i>0; i--)\n",
    "        printf(\"T is %d\", i); \n",
    "}"
   ]
  },
  {
   "cell_type": "markdown",
   "metadata": {},
   "source": [
    "### Exiting from a loop"
   ]
  },
  {
   "cell_type": "markdown",
   "metadata": {},
   "source": [
    "Occasionally we need to exit in the middle of a loop.\\\n",
    "**Continue** makes possible to skip part of a loop iteration without jumping out\\\n",
    "**goto** permits to jump from one statements to another one"
   ]
  },
  {
   "cell_type": "code",
   "execution_count": null,
   "metadata": {},
   "outputs": [],
   "source": [
    "n = 0;\n",
    "sum = O;\n",
    "while (n < 10) {\n",
    "    scanf (\"%d\", &i) ;\n",
    "    if (i == 0)\n",
    "        continue;\n",
    "    sum+= i.;\n",
    "    n++; \n",
    "    /* continue jumps to here*/\n",
    "} "
   ]
  },
  {
   "cell_type": "code",
   "execution_count": null,
   "metadata": {},
   "outputs": [],
   "source": [
    "#include<stdio.h>\n",
    "#include<stdbool.h>\n",
    "int main(void)\n",
    "{\n",
    "    float number, largest;\n",
    "    _Bool digit=true;\n",
    "    while(digit==true)\n",
    "        {printf(\"Insert a number or digit 0 or a negative number to quit: \");\n",
    "        scanf(\"%f\", &number);\n",
    "        if (number<0||number==0)\n",
    "            digit=false;\n",
    "        else\n",
    "            if (number>largest)\n",
    "                largest=number;\n",
    "        }\n",
    "    printf(\"the largest number is: %.2f\\n\", largest);\n",
    "}"
   ]
  },
  {
   "cell_type": "markdown",
   "metadata": {},
   "source": [
    "## basic Types"
   ]
  },
  {
   "cell_type": "code",
   "execution_count": null,
   "metadata": {},
   "outputs": [],
   "source": [
    "#include<stdio.h> //doesn't work because the number goes in overflow (max num overflows by 1)\n",
    "int main(void)\n",
    "{\n",
    "    unsigned long int i, sum;\n",
    "    i=18446744073709551614UL;\n",
    "    sum=i+2UL;\n",
    "    printf(\"%lu\", sum);\n",
    "}"
   ]
  },
  {
   "cell_type": "code",
   "execution_count": null,
   "metadata": {},
   "outputs": [],
   "source": [
    "scanf(\"%u\", &u) //read u in base 10 with printf writes u in base 10\n",
    "scanf(\"%o\", &u) //read u in base 8 with printf writes u in base 8\n",
    "scanf(\"%x\", &u) //read u in base 16 with printf writes u in base 16"
   ]
  },
  {
   "cell_type": "markdown",
   "metadata": {},
   "source": [
    "There are 3 types of floating:\\\n",
    "**float** single precision\\\n",
    "**double** double precision\\\n",
    "**long double** extended precision"
   ]
  },
  {
   "cell_type": "markdown",
   "metadata": {},
   "source": [
    "**Character Types**\\\n",
    "`char ch`\\\n",
    "C treats characters as small integers. After all char are encoded in binary\\\n",
    "`char ch;`\\\n",
    "`int i;`\\\n",
    "`i =\"a\"; //i is now 97`\\\n",
    "`ch=65; //ch is now A`\\\n",
    "`ch=ch+i; //ch is now B`\\\n",
    "`ch++; //ch is now C`\\\n",
    "Signed char have values between -127 to 127, instead unsigned 0 to 255\\\n",
    "Alert (bell) \\a\\\n",
    "Backspace \\b\\\n",
    "Form feed \\f\\\n",
    "New line \\n\\\n",
    "Carriage return \\r\\\n",
    "Horizontal tab \\t\\\n",
    "Vertical tab \\v\\\n",
    "Backslash \\\\\\\n",
    "Question mark \\?\\\n",
    "Single quote \\,\\\n",
    "Double quote \\\"\\"
   ]
  },
  {
   "cell_type": "code",
   "execution_count": 18,
   "metadata": {},
   "outputs": [
    {
     "name": "stdout",
     "output_type": "stream",
     "text": [
      "F\n",
      "F"
     ]
    }
   ],
   "source": [
    "#include<stdio.h>\n",
    "#include<ctype.h> // need for the followin toupper declaration\n",
    "int main(void)\n",
    "{\n",
    "    char ch='f';\n",
    "    ch=toupper(ch); //convert a letter into its upper \n",
    "    printf(\"%c\\n\", ch);\n",
    "    putchar(ch);\n",
    "}"
   ]
  },
  {
   "cell_type": "markdown",
   "metadata": {},
   "source": [
    "**putchar(ch)** writes a single character\\\n",
    "**ch=getchar()** reads a charcater and store it in ch\\"
   ]
  },
  {
   "cell_type": "code",
   "execution_count": null,
   "metadata": {},
   "outputs": [],
   "source": [
    "#include<stdio.h>\n",
    "#include<ctype.h>\n",
    "//getchar returns the first character entered but it has a buffer that stores the entire string\n",
    "int main(void)\n",
    "{\n",
    "    char ch;\n",
    "    int len;\n",
    "    printf(\"Enter the message: \");\n",
    "    ch=getchar();\n",
    "    while (ch!='\\n'){\n",
    "        len++;\n",
    "        ch=getchar();\n",
    "        printf(\"%c\\n\", ch);\n",
    "    }\n",
    "    printf(\"%d\\n\", len);\n",
    "    \n",
    "}//pag 167"
   ]
  },
  {
   "cell_type": "code",
   "execution_count": null,
   "metadata": {},
   "outputs": [],
   "source": [
    "#include<stdio.h>\n",
    "#include<ctype.h>\n",
    "//getchar returns the first character entered but it has a buffer that stores the entire string\n",
    "int main(void)\n",
    "{\n",
    "    char ch;\n",
    "    int len;\n",
    "    printf(\"Enter the message: \");\n",
    "    ch=getchar();\n",
    "    while (getchar()!='\\n'){\n",
    "        len++;\n",
    "    }\n",
    "    printf(\"%d\\n\", len);\n",
    "    \n",
    "}//pag 167"
   ]
  },
  {
   "cell_type": "markdown",
   "metadata": {},
   "source": [
    "**sizeof(type-name)** determine how much memory is required"
   ]
  },
  {
   "cell_type": "code",
   "execution_count": 11,
   "metadata": {},
   "outputs": [
    {
     "name": "stdout",
     "output_type": "stream",
     "text": [
      "8"
     ]
    }
   ],
   "source": [
    "#include<stdio.h>\n",
    "int main(void)\n",
    "{\n",
    "    char ch;\n",
    "    //ch=\"Ciao\";\n",
    "    printf(\"%lu\",sizeof(564897654111111));\n",
    "\n",
    "}"
   ]
  },
  {
   "cell_type": "markdown",
   "metadata": {},
   "source": [
    "## ARRAYS"
   ]
  },
  {
   "cell_type": "markdown",
   "metadata": {},
   "source": [
    "An **array** is a data structure containing a number of data values, all of which have the same type.\\\n",
    "The simplest kind in 1 dimension array.\\\n",
    "To declare an array, we must specify the type and the number of elements.\\\n",
    "`int a[10]`\\"
   ]
  },
  {
   "cell_type": "code",
   "execution_count": 21,
   "metadata": {},
   "outputs": [
    {
     "name": "stdout",
     "output_type": "stream",
     "text": [
      "211\n"
     ]
    }
   ],
   "source": [
    "#include<stdio.h>\n",
    "int main(void)\n",
    "{\n",
    "    int a[10];\n",
    "    int b[]={10, 52, 30};\n",
    "    a[0]=1;\n",
    "    a[1]=2;\n",
    "    ++a[0]; //add 1 to the value stores in a[0]\n",
    "    printf(\"%d%d\\n\", a[0], ++b[0]);\n",
    "\n",
    "}"
   ]
  }
 ],
 "metadata": {
  "kernelspec": {
   "display_name": "C",
   "language": "c",
   "name": "c"
  },
  "language_info": {
   "file_extension": ".c",
   "mimetype": "text/plain",
   "name": "c"
  }
 },
 "nbformat": 4,
 "nbformat_minor": 2
}
